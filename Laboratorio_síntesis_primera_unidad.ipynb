{
  "cells": [
    {
      "cell_type": "markdown",
      "metadata": {
        "id": "2jfXwoeHqP98"
      },
      "source": [
        "# Laboratorio - Unidad 1\n",
        "\n",
        "Este laboratorio sintetiza los contenidos abordados en la primera unidad y consta de cuatro preguntas esenciales. Se espera que todas las respuestas se elaboren en este cuaderno. Para realizar cálculos y elaborar gráficos, utilicen las celdas de código. Mientras que para redactar sus respuestas, recurran a las celdas de texto. Es fundamental que justifiquen todas sus respuestas.\n"
      ]
    },
    {
      "cell_type": "markdown",
      "metadata": {
        "id": "y8unAMIZqZ3b"
      },
      "source": [
        "## Pregunta 1: Sistemas de Ecuaciones\n",
        "\n",
        "Dado el sistema de ecuaciones lineales:\n",
        "\\begin{equation*}\n",
        "\\left\\{\n",
        "\\begin{array}{l}\n",
        "x + 2y = 8 \\\\\n",
        "3x - y = 3\n",
        "\\end{array}\n",
        "\\right.\n",
        "\\end{equation*}\n",
        "\n",
        "\n",
        "\n",
        "a) Resuelve el sistema de ecuaciones.\n",
        "\n",
        "b) Grafica las dos rectas en el mismo plano cartesiano.\n",
        "\n",
        "c) Calcula la pendiente de cada recta.\n",
        "\n",
        "d) Si $x = 5$, ¿cuál sería el valor de $y$ para cada ecuación?\n",
        "\n"
      ]
    },
    {
      "cell_type": "markdown",
      "metadata": {
        "id": "qrQz0ORxqlcY"
      },
      "source": [
        "## Pregunta 2. Función Cuadrática\n",
        "\n",
        "Dada la función cuadrática $f(x) = x^2 - 4x + 3$:\n",
        "\n",
        "\n",
        "a) Halla sus raíces.\n",
        "\n",
        "b) Grafica la función.\n",
        "\n",
        "c) Determina el vértice y el eje de simetría de la parábola.\n",
        "\n",
        "d) ¿La parábola abre hacia arriba o hacia abajo? ¿Cómo lo determinaste?\n",
        "\n"
      ]
    },
    {
      "cell_type": "markdown",
      "metadata": {
        "id": "uZeIKJKgq2Ws"
      },
      "source": [
        "## Pregunta 3. Funciones Trigonométricas\n",
        "\n",
        "Considera la función $f(x) = 2\\sin(x) + 3\\cos(2x)$:\n",
        "\n",
        "a) Grafica la función en el intervalo $[0, 2\\pi]$.\n",
        "\n",
        "b) Encuentra los valores máximos y mínimos en dicho intervalo.\n",
        "\n",
        "c) ¿En qué puntos la función corta el eje x en dicho intervalo?\n",
        "\n",
        "d) Evalúa la función en $x = \\frac{\\pi}{2}$ y $x = \\pi$.\n",
        "\n",
        "\n"
      ]
    },
    {
      "cell_type": "markdown",
      "metadata": {
        "id": "SZWprzf3q9EL"
      },
      "source": [
        "## 4. Sucesiones\n",
        "\n",
        "Considera la sucesión aritmética donde el primer término es 5 y la diferencia común es 3:\n",
        "\n",
        "a) Encuentra el término 10 de la sucesión.\n",
        "\n",
        "b) Imprime los primeros 20 términos de la sucesión.\n",
        "\n",
        "c) Encuentra la suma de los primeros 15 términos.\n",
        "\n",
        "d) Si la sucesión tuviera una diferencia común de 5, ¿cuál sería el término 20?"
      ]
    }
  ],
  "metadata": {
    "colab": {
      "provenance": []
    },
    "kernelspec": {
      "display_name": "Python 3",
      "name": "python3"
    },
    "language_info": {
      "name": "python"
    }
  },
  "nbformat": 4,
  "nbformat_minor": 0
}
