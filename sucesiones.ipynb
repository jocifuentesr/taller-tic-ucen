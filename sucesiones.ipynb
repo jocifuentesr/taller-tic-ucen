{
  "cells": [
    {
      "cell_type": "markdown",
      "metadata": {},
      "source": [
        "## Sucesiones\n",
        "En Python podemos definir sucesiones de números de forma sencilla a través de una lista. Por ejemplo, la sucesión de los números naturales se puede definir como sigue:"
      ]
    },
    {
      "cell_type": "code",
      "execution_count": 2,
      "metadata": {
        "id": "OLHFlDM7T_3U"
      },
      "outputs": [
        {
          "name": "stdout",
          "output_type": "stream",
          "text": [
            "[1, 4, 9, 16]\n"
          ]
        }
      ],
      "source": [
        "a = [1, 4, 9, 16]\n",
        "print(a)"
      ]
    },
    {
      "cell_type": "markdown",
      "metadata": {},
      "source": [
        "Cuando trabajamos con sucesiones en Python es importante tener en cuenta que no podremos respresentar sucesiones con infinitos términos, sino que tendremos que elegir un número finito de términos. El siguiente método permite contar los elementos de una sucesión"
      ]
    },
    {
      "cell_type": "code",
      "execution_count": 3,
      "metadata": {
        "colab": {
          "base_uri": "https://localhost:8080/"
        },
        "id": "4uj-vEd8Wa1P",
        "outputId": "e089eade-ec61-4477-e0ba-5d5ca0371e5f"
      },
      "outputs": [
        {
          "name": "stdout",
          "output_type": "stream",
          "text": [
            "La cantidad de elementos de la lista: 4\n"
          ]
        }
      ],
      "source": [
        "# cuenta los elementos de una sucesión\n",
        "print(f\"La cantidad de elementos de la lista: {len(a)}\")"
      ]
    },
    {
      "cell_type": "code",
      "execution_count": 4,
      "metadata": {
        "colab": {
          "base_uri": "https://localhost:8080/"
        },
        "id": "0Z75z2gAW7tf",
        "outputId": "771c2f86-4af8-491b-af68-79b203244965"
      },
      "outputs": [
        {
          "name": "stdout",
          "output_type": "stream",
          "text": [
            "La suma de los elementos de una lista es: 30\n"
          ]
        }
      ],
      "source": [
        "# suma los elementos de una sucesión\n",
        "print(f\"La suma de los elementos de una lista es: {sum(a)}\")"
      ]
    },
    {
      "cell_type": "code",
      "execution_count": null,
      "metadata": {
        "colab": {
          "base_uri": "https://localhost:8080/"
        },
        "id": "6N0G8AqqXSx3",
        "outputId": "79133835-12ab-4a63-bfc0-63be995c322f"
      },
      "outputs": [
        {
          "name": "stdout",
          "output_type": "stream",
          "text": [
            "El primer de una lista es: 1\n"
          ]
        }
      ],
      "source": [
        "print(f\"El primer elemento de una lista es: {a[0]}\")"
      ]
    },
    {
      "cell_type": "code",
      "execution_count": null,
      "metadata": {
        "colab": {
          "base_uri": "https://localhost:8080/"
        },
        "id": "fesAHwR9Xn6V",
        "outputId": "dbd1cb47-b7cf-4eae-c01c-c5c92a09795a"
      },
      "outputs": [
        {
          "name": "stdout",
          "output_type": "stream",
          "text": [
            "El tercer elemento de una lista es: 9\n"
          ]
        }
      ],
      "source": [
        "print(f\"El tercer elemento de una lista es: {a[2]}\")"
      ]
    },
    {
      "cell_type": "code",
      "execution_count": null,
      "metadata": {
        "colab": {
          "base_uri": "https://localhost:8080/"
        },
        "id": "hnGOj6CkX0ou",
        "outputId": "619f27a0-9b50-480b-f773-a082d6f367e4"
      },
      "outputs": [
        {
          "name": "stdout",
          "output_type": "stream",
          "text": [
            "El último elemento de la lista es: 16\n"
          ]
        }
      ],
      "source": [
        "print(f\"El último elemento de la lista es: {a[-1]}\")"
      ]
    },
    {
      "cell_type": "code",
      "execution_count": null,
      "metadata": {
        "id": "VTJnvYr1YZK2"
      },
      "outputs": [],
      "source": [
        "n = 25\n",
        "print(f\"El elemento que está en la posición {n} es igual a: {n ** 2}\")"
      ]
    },
    {
      "cell_type": "code",
      "execution_count": null,
      "metadata": {
        "colab": {
          "base_uri": "https://localhost:8080/"
        },
        "id": "EgTUkL7CZNTO",
        "outputId": "99098aeb-400e-4828-a628-dbd6f835a774"
      },
      "outputs": [
        {
          "data": {
            "text/plain": [
              "[1, 4, 9, 16, 25]"
            ]
          },
          "execution_count": 12,
          "metadata": {},
          "output_type": "execute_result"
        }
      ],
      "source": [
        "a"
      ]
    },
    {
      "cell_type": "code",
      "execution_count": null,
      "metadata": {
        "colab": {
          "base_uri": "https://localhost:8080/"
        },
        "id": "xqah8Bq3Zsbm",
        "outputId": "4b465e99-6d49-47cf-e50e-45afe1c342b8"
      },
      "outputs": [
        {
          "name": "stdout",
          "output_type": "stream",
          "text": [
            "1\n",
            "2\n",
            "3\n",
            "4\n",
            "5\n"
          ]
        }
      ],
      "source": [
        "for i in range(1, 6):\n",
        "  print(i)"
      ]
    },
    {
      "cell_type": "code",
      "execution_count": null,
      "metadata": {
        "id": "uy3pC1E1af12"
      },
      "outputs": [],
      "source": [
        "for n in range(1, 11):\n",
        "  print(f\"a({n}) = {n ** 2}\")"
      ]
    },
    {
      "cell_type": "code",
      "execution_count": null,
      "metadata": {
        "colab": {
          "base_uri": "https://localhost:8080/"
        },
        "id": "CDY4WuxJbG0G",
        "outputId": "7f045878-8797-4d10-fc40-7a2dd360ec9b"
      },
      "outputs": [
        {
          "name": "stdout",
          "output_type": "stream",
          "text": [
            "a(1) = 1.0\n",
            "a(2) = 0.5\n",
            "a(3) = 0.3333333333333333\n",
            "a(4) = 0.25\n",
            "a(5) = 0.2\n",
            "a(6) = 0.16666666666666666\n",
            "a(7) = 0.14285714285714285\n",
            "a(8) = 0.125\n",
            "a(9) = 0.1111111111111111\n",
            "a(10) = 0.1\n"
          ]
        }
      ],
      "source": [
        "for n in range(1, 11):\n",
        "  print(f\"a({n}) = {1 / n}\")"
      ]
    },
    {
      "cell_type": "code",
      "execution_count": null,
      "metadata": {
        "colab": {
          "base_uri": "https://localhost:8080/"
        },
        "id": "MrJDwOtpbV7d",
        "outputId": "736aa316-6b61-4374-d269-e61116a5f4f2"
      },
      "outputs": [
        {
          "name": "stdout",
          "output_type": "stream",
          "text": [
            "a(30) = 0.03333333333333333\n",
            "a(31) = 0.03225806451612903\n",
            "a(32) = 0.03125\n",
            "a(33) = 0.030303030303030304\n",
            "a(34) = 0.029411764705882353\n",
            "a(35) = 0.02857142857142857\n",
            "a(36) = 0.027777777777777776\n",
            "a(37) = 0.02702702702702703\n",
            "a(38) = 0.02631578947368421\n",
            "a(39) = 0.02564102564102564\n",
            "a(40) = 0.025\n"
          ]
        }
      ],
      "source": [
        "for n in range(30, 41):\n",
        "  print(f\"a({n}) = {1 / n}\")"
      ]
    },
    {
      "cell_type": "code",
      "execution_count": null,
      "metadata": {
        "id": "IbbWLo6ib4P9"
      },
      "outputs": [],
      "source": [
        "lista = []\n",
        "for n in range(1, 1001):\n",
        "  lista.append(1 / n)"
      ]
    }
  ],
  "metadata": {
    "colab": {
      "provenance": []
    },
    "kernelspec": {
      "display_name": "Python 3",
      "name": "python3"
    },
    "language_info": {
      "codemirror_mode": {
        "name": "ipython",
        "version": 3
      },
      "file_extension": ".py",
      "mimetype": "text/x-python",
      "name": "python",
      "nbconvert_exporter": "python",
      "pygments_lexer": "ipython3",
      "version": "3.11.5"
    }
  },
  "nbformat": 4,
  "nbformat_minor": 0
}
