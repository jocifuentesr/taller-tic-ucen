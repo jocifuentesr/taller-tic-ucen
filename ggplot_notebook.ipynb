{
 "cells": [
  {
   "cell_type": "markdown",
   "id": "ae5671df",
   "metadata": {},
   "source": [
    "Instalación y carga de paquetes necesarios"
   ]
  },
  {
   "cell_type": "code",
   "execution_count": null,
   "id": "28054ad9",
   "metadata": {},
   "outputs": [],
   "source": [
    "install.packages(\"ggplot2\")\n",
    "library(ggplot2)"
   ]
  },
  {
   "cell_type": "markdown",
   "id": "77a6e465",
   "metadata": {},
   "source": [
    "1. Gráfico de dispersión para mtcars (mpg vs hp)"
   ]
  },
  {
   "cell_type": "code",
   "execution_count": null,
   "id": "10bfe928",
   "metadata": {},
   "outputs": [],
   "source": [
    "p1 <- ggplot(mtcars, aes(x=hp, y=mpg)) + \n",
    "  geom_point() + \n",
    "  labs(title = \"Relación entre mpg y hp\", x = \"Caballo de Fuerza (hp)\", y = \"Millas por galón (mpg)\")"
   ]
  },
  {
   "cell_type": "code",
   "execution_count": null,
   "id": "18dcdd9a",
   "metadata": {},
   "outputs": [],
   "source": [
    "print(p1)\n",
    "# Observación: A medida que los caballos de fuerza aumentan, las millas por galón tienden a disminuir."
   ]
  },
  {
   "cell_type": "markdown",
   "id": "d0612c39",
   "metadata": {},
   "source": [
    "2. Histograma del precio de los diamantes"
   ]
  },
  {
   "cell_type": "code",
   "execution_count": null,
   "id": "52adf692",
   "metadata": {},
   "outputs": [],
   "source": [
    "p2 <- ggplot(diamonds, aes(x=price)) + \n",
    "  geom_histogram(binwidth=500, fill=\"blue\", color=\"black\", alpha=0.7) + \n",
    "  labs(title = \"Distribución de precios de los diamantes\", x = \"Precio\", y = \"Cantidad\")"
   ]
  },
  {
   "cell_type": "code",
   "execution_count": null,
   "id": "b627982f",
   "metadata": {},
   "outputs": [],
   "source": [
    "print(p2)\n",
    "# Observación: La mayoría de los diamantes tienden a tener un precio más bajo."
   ]
  },
  {
   "cell_type": "markdown",
   "id": "6e3bed07",
   "metadata": {},
   "source": [
    "3. Gráfico de barras de cantidad de diamantes por tipo de corte"
   ]
  },
  {
   "cell_type": "code",
   "execution_count": null,
   "id": "b71ec862",
   "metadata": {},
   "outputs": [],
   "source": [
    "p3 <- ggplot(diamonds, aes(x=cut)) + \n",
    "  geom_bar(fill=\"green\", color=\"black\", alpha=0.7) + \n",
    "  labs(title = \"Cantidad de diamantes por tipo de corte\", x = \"Tipo de Corte\", y = \"Cantidad\")"
   ]
  },
  {
   "cell_type": "code",
   "execution_count": null,
   "id": "1a23e51c",
   "metadata": {},
   "outputs": [],
   "source": [
    "print(p3)\n",
    "# Observación: El tipo de corte 'Ideal' es el más común."
   ]
  },
  {
   "cell_type": "markdown",
   "id": "df3e5c61",
   "metadata": {},
   "source": [
    "4. Gráfico de dispersión para iris (Sepal.Length vs Sepal.Width)"
   ]
  },
  {
   "cell_type": "code",
   "execution_count": null,
   "id": "77aa0be3",
   "metadata": {},
   "outputs": [],
   "source": [
    "p4 <- ggplot(iris, aes(x=Sepal.Length, y=Sepal.Width, color=Species)) + \n",
    "  geom_point() + \n",
    "  labs(title = \"Relación entre Sepal.Length y Sepal.Width\", x = \"Longitud del Sépalo\", y = \"Ancho del Sépalo\")"
   ]
  },
  {
   "cell_type": "code",
   "execution_count": null,
   "id": "6fed995b",
   "metadata": {},
   "outputs": [],
   "source": [
    "print(p4)\n",
    "# Observación: Cada especie parece tener un rango específico en las dimensiones del sépalo."
   ]
  },
  {
   "cell_type": "markdown",
   "id": "2d9bfbc9",
   "metadata": {},
   "source": [
    "5. Gráfico de caja de cada especie en iris con facet_wrap"
   ]
  },
  {
   "cell_type": "code",
   "execution_count": null,
   "id": "8d776c14",
   "metadata": {},
   "outputs": [],
   "source": [
    "p5 <- ggplot(iris, aes(x=Species, y=Sepal.Length, color=Species)) + \n",
    "  geom_boxplot() + \n",
    "  facet_wrap(~Species) + \n",
    "  labs(title = \"Distribución de Sepal.Length por especie\", x = \"Especie\", y = \"Longitud del Sépalo\")"
   ]
  },
  {
   "cell_type": "code",
   "execution_count": null,
   "id": "d76687fb",
   "metadata": {},
   "outputs": [],
   "source": [
    "print(p5)"
   ]
  },
  {
   "cell_type": "markdown",
   "id": "bf3b7229",
   "metadata": {},
   "source": [
    "6. Gráfico de caja para mpg (hwy vs drv)"
   ]
  },
  {
   "cell_type": "code",
   "execution_count": null,
   "id": "789959b8",
   "metadata": {},
   "outputs": [],
   "source": [
    "p6 <- ggplot(mpg, aes(x=drv, y=hwy, color=drv)) + \n",
    "  geom_boxplot() + \n",
    "  labs(title = \"Distribución de consumo de combustible por tipo de transmisión\", x = \"Tipo de Transmisión\", y = \"Carretera mpg\")"
   ]
  },
  {
   "cell_type": "code",
   "execution_count": null,
   "id": "256abcf4",
   "metadata": {},
   "outputs": [],
   "source": [
    "print(p6)\n",
    "# Observación: La transmisión 'f' (front-wheel drive) parece ser más eficiente en términos de consumo de combustible."
   ]
  },
  {
   "cell_type": "markdown",
   "id": "5818506f",
   "metadata": {},
   "source": [
    "7. Relación entre precio y claridad de los diamantes"
   ]
  },
  {
   "cell_type": "code",
   "execution_count": null,
   "id": "3ea17c77",
   "metadata": {},
   "outputs": [],
   "source": [
    "p7 <- ggplot(diamonds, aes(x=clarity, y=price, color=clarity)) + \n",
    "  geom_boxplot() + \n",
    "  labs(title = \"Relación entre precio y claridad de los diamantes\", x = \"Claridad\", y = \"Precio\")"
   ]
  },
  {
   "cell_type": "code",
   "execution_count": null,
   "id": "022e761d",
   "metadata": {},
   "outputs": [],
   "source": [
    "print(p7)\n",
    "# Observación: No hay una tendencia clara entre la claridad y el precio. "
   ]
  },
  {
   "cell_type": "markdown",
   "id": "3c57de4c",
   "metadata": {},
   "source": [
    "8. Patrón mensual en niveles de ozono con airquality"
   ]
  },
  {
   "cell_type": "code",
   "execution_count": null,
   "id": "c69b4edf",
   "metadata": {},
   "outputs": [],
   "source": [
    "p8 <- ggplot(airquality, aes(x=as.factor(Month), y=Ozone)) + \n",
    "  geom_boxplot(fill=\"orange\", color=\"black\", alpha=0.7) + \n",
    "  labs(title = \"Niveles de ozono a lo largo de los meses\", x = \"Mes\", y = \"Ozono (ppb)\")"
   ]
  },
  {
   "cell_type": "code",
   "execution_count": null,
   "id": "c1d31307",
   "metadata": {},
   "outputs": [],
   "source": [
    "print(p8)\n",
    "# Observación: Hay variaciones en los niveles de ozono a lo largo de los meses."
   ]
  },
  {
   "cell_type": "code",
   "execution_count": null,
   "id": "88ede843",
   "metadata": {},
   "outputs": [],
   "source": [
    "\n",
    "# 9. Relación entre cyl y mpg en mtcars\n",
    "p9 <- ggplot(mtcars, aes(x=as.factor(cyl), y=mpg, color=as.factor(cyl))) + \n",
    "  geom_boxplot() + \n",
    "  labs(title = \"Relación entre número de cilindros y mpg\", \n",
    "       x = \"Número de Cilindros\", y = \"Millas por galón (mpg)\")"
   ]
  },
  {
   "cell_type": "code",
   "execution_count": null,
   "id": "0e3747a8",
   "metadata": {},
   "outputs": [],
   "source": [
    "print(p9)\n",
    "# Observación: En general, se puede ver que los autos con menos cilindros \n",
    "#tienden a tener una mayor eficiencia de combustible (mpg más alto)."
   ]
  },
  {
   "cell_type": "code",
   "execution_count": null,
   "id": "5cf0721e",
   "metadata": {},
   "outputs": [],
   "source": []
  }
 ],
 "metadata": {},
 "nbformat": 4,
 "nbformat_minor": 5
}
