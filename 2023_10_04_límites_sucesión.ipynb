{
  "cells": [
    {
      "cell_type": "code",
      "execution_count": 1,
      "metadata": {
        "colab": {
          "base_uri": "https://localhost:8080/"
        },
        "id": "VrgLgQfKYSY_",
        "outputId": "80b95d27-5a56-4597-af7e-8acaf1c8b810"
      },
      "outputs": [
        {
          "output_type": "stream",
          "name": "stdout",
          "text": [
            "2\n",
            "4\n",
            "6\n",
            "8\n"
          ]
        }
      ],
      "source": [
        "# definir un ciclo\n",
        "# mostrar 10 primeros números naturales\n",
        "\n",
        "contador = 1\n",
        "while contador != 5:\n",
        "  print(contador * 2)\n",
        "  contador = contador + 1\n"
      ]
    },
    {
      "cell_type": "code",
      "execution_count": 2,
      "metadata": {
        "colab": {
          "base_uri": "https://localhost:8080/"
        },
        "id": "DLOFYlBOY9r3",
        "outputId": "45bb0051-058d-420d-b254-4762be117a2f"
      },
      "outputs": [
        {
          "output_type": "stream",
          "name": "stdout",
          "text": [
            "1\n",
            "2\n",
            "3\n",
            "4\n",
            "5\n",
            "6\n",
            "7\n",
            "8\n",
            "9\n",
            "10\n"
          ]
        }
      ],
      "source": [
        "for n in range(1, 11):\n",
        "  print(n)"
      ]
    },
    {
      "cell_type": "code",
      "execution_count": 3,
      "metadata": {
        "colab": {
          "base_uri": "https://localhost:8080/"
        },
        "id": "2xtOwLUFeoFA",
        "outputId": "a90e5516-3409-4876-a43d-b238d3fa7c41"
      },
      "outputs": [
        {
          "output_type": "stream",
          "name": "stdout",
          "text": [
            "g(1) = 5\n",
            "g(2) = 40\n",
            "g(3) = 135\n",
            "g(4) = 320\n"
          ]
        }
      ],
      "source": [
        "for n in range(1, 5):\n",
        "  print(f\"g({n}) = {5 * n ** 3}\")"
      ]
    },
    {
      "cell_type": "code",
      "execution_count": 4,
      "metadata": {
        "colab": {
          "base_uri": "https://localhost:8080/"
        },
        "id": "RKMlmcovfQK4",
        "outputId": "7506348d-4522-40d9-e659-406413eae357"
      },
      "outputs": [
        {
          "output_type": "stream",
          "name": "stdout",
          "text": [
            "g(10) = 5000\n",
            "g(11) = 6655\n",
            "g(12) = 8640\n",
            "g(13) = 10985\n",
            "g(14) = 13720\n",
            "g(15) = 16875\n"
          ]
        }
      ],
      "source": [
        "for n in range(10, 16):\n",
        "  print(f\"g({n}) = {5 * n ** 3}\")"
      ]
    },
    {
      "cell_type": "code",
      "execution_count": 5,
      "metadata": {
        "colab": {
          "base_uri": "https://localhost:8080/"
        },
        "id": "pgrDwc3ZgAOx",
        "outputId": "d96393f9-cf17-4ca3-b29a-e3cf19e47edf"
      },
      "outputs": [
        {
          "output_type": "execute_result",
          "data": {
            "text/plain": [
              "19.999999999999996"
            ]
          },
          "metadata": {},
          "execution_count": 5
        }
      ],
      "source": [
        "(40000 / 5) ** (1 / 3)"
      ]
    },
    {
      "cell_type": "code",
      "execution_count": 6,
      "metadata": {
        "colab": {
          "base_uri": "https://localhost:8080/"
        },
        "id": "aSSqnO20guYJ",
        "outputId": "8180f589-ec28-45c0-997e-f3801a520695"
      },
      "outputs": [
        {
          "output_type": "stream",
          "name": "stdout",
          "text": [
            "g(20) = 40000\n"
          ]
        }
      ],
      "source": [
        "for n in range(1, 101):\n",
        "  a = 5 * n ** 3\n",
        "  if a == 40000:\n",
        "    print(f\"g({n}) = {a}\")\n"
      ]
    },
    {
      "cell_type": "code",
      "execution_count": 7,
      "metadata": {
        "colab": {
          "base_uri": "https://localhost:8080/"
        },
        "id": "BpoUmXe1vH-_",
        "outputId": "88bcb333-b77a-4aa3-e0b1-67dd5bf0666b"
      },
      "outputs": [
        {
          "output_type": "stream",
          "name": "stdout",
          "text": [
            "Hola Mundo\n"
          ]
        }
      ],
      "source": [
        "print(\"Hola Mundo\")"
      ]
    }
  ],
  "metadata": {
    "colab": {
      "provenance": []
    },
    "kernelspec": {
      "display_name": "Python 3",
      "name": "python3"
    },
    "language_info": {
      "codemirror_mode": {
        "name": "ipython",
        "version": 3
      },
      "file_extension": ".py",
      "mimetype": "text/x-python",
      "name": "python",
      "nbconvert_exporter": "python",
      "pygments_lexer": "ipython3",
      "version": "3.11.5"
    },
    "orig_nbformat": 4
  },
  "nbformat": 4,
  "nbformat_minor": 0
}